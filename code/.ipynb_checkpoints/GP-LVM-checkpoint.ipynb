{
 "cells": [
  {
   "cell_type": "code",
   "execution_count": 1,
   "metadata": {},
   "outputs": [],
   "source": [
    "import matplotlib.pyplot as plt\n",
    "from tensorflow.keras.datasets import mnist as mnist\n",
    "import numpy as np\n",
    "\n",
    "((train_data, train_labels),\n",
    " (eval_data, eval_labels)) = mnist.load_data()"
   ]
  },
  {
   "cell_type": "code",
   "execution_count": 2,
   "metadata": {},
   "outputs": [
    {
     "data": {
      "text/plain": [
       "<matplotlib.image.AxesImage at 0x129b99b38>"
      ]
     },
     "execution_count": 2,
     "metadata": {},
     "output_type": "execute_result"
    },
    {
     "data": {
      "image/png": "[encoded data removed]",
      "text/plain": [
       "<Figure size 432x288 with 1 Axes>"
      ]
     },
     "metadata": {
      "needs_background": "light"
     },
     "output_type": "display_data"
    }
   ],
   "source": [
    "plt.imshow(train_data[0])"
   ]
  },
  {
   "cell_type": "code",
   "execution_count": 5,
   "metadata": {},
   "outputs": [],
   "source": [
    "Y = train_data.reshape((-1, 28 * 28))\n",
    "\n",
    "Y = Y[0:10, :]\n",
    "\n",
    "N = Y.shape[0]\n",
    "D = 2\n",
    "\n",
    "# Initialise the Xs\n",
    "X = np.random.randn(N, D)\n",
    "\n",
    "alpha = .5\n",
    "beta = 300\n",
    "gamma = 100\n",
    "\n",
    "# Define the log likelihood\n",
    "\n",
    "def gplvm_loglik(Y, K, D, N):\n",
    "    K_inv = np.linalg.inv(K)\n",
    "    return -D * N * 0.5 * np.log(2 * np.pi) - D * 0.5 * np.log(np.linalg.det(K)) - 0.5 * np.trace(K_inv.dot(Y).dot(Y.T))\n",
    "\n",
    "def gplvm_loglik_d(X, Y, K, H, alpha, beta, gamma):\n",
    "    K_inv = np.linalg.inv(K)\n",
    "    dL_dK = K_inv.dot(Y).dot(Y.T).dot(K_inv) - D * K_inv\n",
    "    \n",
    "    K_quad, K_rbf, _ = get_K_rbf(X, N, alpha, beta, gamma)\n",
    "    \n",
    "    dK_dX = np.ndarray((N, N, N, H))\n",
    "    \n",
    "    for n in range(N):\n",
    "        for m in range(N):\n",
    "            for l in range(N):\n",
    "                dK_dX[n, m, l] = K_rbf[n,m] * ((n == l) * (X[n] - X[m]) + (m == l) * (X[n] - X[m]))\n",
    "                \n",
    "    dK_dX *= -gamma\n",
    "    \n",
    "    dK_dalpha = alpha * K_rbf\n",
    "    \n",
    "    dK_dgamma = -gamma * alpha * K_rbf * K_quad * 0.5\n",
    "\n",
    "    dK_dbeta = -np.eye(N) / beta\n",
    "    \n",
    "    dL_dX = np.einsum('nmjk, nm -> jk', dK_dX, dL_dK)\n",
    "    dL_dalpha = dL_dK.dot(dK_dalpha)\n",
    "    dL_dbeta = dL_dK.dot(dK_dbeta)\n",
    "    dL_dgamma = dL_dK.dot(dK_dgamma)\n",
    "    \n",
    "    return dL_dX, dL_dalpha, dL_dbeta, dL_dgamma\n",
    "\n",
    "def get_K_rbf(X, N, alpha, beta, gamma):\n",
    "    K_quad = np.ndarray((N, N))\n",
    "    for n in range(N):\n",
    "        for m in range(N):\n",
    "            K_quad[n, m] = np.dot(X[n, :] - X[m, :], X[n, :] - X[m, :])\n",
    "            \n",
    "    K_rbf = np.exp(-gamma / 2. * K_quad)\n",
    "    \n",
    "    K_rbf_full = alpha * K_rbf + np.eye(N) / beta\n",
    "    \n",
    "    return K_quad, K_rbf, K_rbf_full\n"
   ]
  },
  {
   "cell_type": "code",
   "execution_count": 7,
   "metadata": {},
   "outputs": [
    {
     "name": "stdout",
     "output_type": "stream",
     "text": [
      "-50035251.83258427\n",
      "nan\n"
     ]
    },
    {
     "name": "stderr",
     "output_type": "stream",
     "text": [
      "/Users/gergelyflamich/Documents/Miscellaneous/GP-LVM/venv/lib/python3.7/site-packages/ipykernel_launcher.py:19: RuntimeWarning: invalid value encountered in log\n"
     ]
    },
    {
     "ename": "ValueError",
     "evalue": "operands could not be broadcast together with shapes (10,10,10,2) (10,10) (10,10,10,2) ",
     "output_type": "error",
     "traceback": [
      "\u001b[0;31m---------------------------------------------------------------------------\u001b[0m",
      "\u001b[0;31mValueError\u001b[0m                                Traceback (most recent call last)",
      "\u001b[0;32m<ipython-input-7-098b45064079>\u001b[0m in \u001b[0;36m<module>\u001b[0;34m\u001b[0m\n\u001b[1;32m      7\u001b[0m     \u001b[0mlosses\u001b[0m\u001b[0;34m.\u001b[0m\u001b[0mappend\u001b[0m\u001b[0;34m(\u001b[0m\u001b[0mgplvm_loglik\u001b[0m\u001b[0;34m(\u001b[0m\u001b[0mY\u001b[0m\u001b[0;34m,\u001b[0m \u001b[0mK\u001b[0m\u001b[0;34m,\u001b[0m \u001b[0mD\u001b[0m\u001b[0;34m,\u001b[0m \u001b[0mN\u001b[0m\u001b[0;34m)\u001b[0m\u001b[0;34m)\u001b[0m\u001b[0;34m\u001b[0m\u001b[0;34m\u001b[0m\u001b[0m\n\u001b[1;32m      8\u001b[0m     \u001b[0mprint\u001b[0m\u001b[0;34m(\u001b[0m\u001b[0mlosses\u001b[0m\u001b[0;34m[\u001b[0m\u001b[0;34m-\u001b[0m\u001b[0;36m1\u001b[0m\u001b[0;34m]\u001b[0m\u001b[0;34m)\u001b[0m\u001b[0;34m\u001b[0m\u001b[0;34m\u001b[0m\u001b[0m\n\u001b[0;32m----> 9\u001b[0;31m     \u001b[0mdL_dX\u001b[0m\u001b[0;34m,\u001b[0m \u001b[0mdL_dalpha\u001b[0m\u001b[0;34m,\u001b[0m \u001b[0mdL_dbeta\u001b[0m\u001b[0;34m,\u001b[0m \u001b[0mdL_dgamma\u001b[0m \u001b[0;34m=\u001b[0m \u001b[0mgplvm_loglik_d\u001b[0m\u001b[0;34m(\u001b[0m\u001b[0mX\u001b[0m\u001b[0;34m,\u001b[0m \u001b[0mY\u001b[0m\u001b[0;34m,\u001b[0m \u001b[0mK\u001b[0m\u001b[0;34m,\u001b[0m \u001b[0;36m2\u001b[0m\u001b[0;34m,\u001b[0m \u001b[0malpha\u001b[0m\u001b[0;34m,\u001b[0m \u001b[0mbeta\u001b[0m\u001b[0;34m,\u001b[0m \u001b[0mgamma\u001b[0m\u001b[0;34m)\u001b[0m\u001b[0;34m\u001b[0m\u001b[0;34m\u001b[0m\u001b[0m\n\u001b[0m\u001b[1;32m     10\u001b[0m \u001b[0;34m\u001b[0m\u001b[0m\n\u001b[1;32m     11\u001b[0m     \u001b[0malpha\u001b[0m \u001b[0;34m=\u001b[0m \u001b[0malpha\u001b[0m \u001b[0;34m+\u001b[0m \u001b[0mlr\u001b[0m \u001b[0;34m*\u001b[0m \u001b[0mdL_dalpha\u001b[0m\u001b[0;34m\u001b[0m\u001b[0;34m\u001b[0m\u001b[0m\n",
      "\u001b[0;32m<ipython-input-5-72e20d496b9a>\u001b[0m in \u001b[0;36mgplvm_loglik_d\u001b[0;34m(X, Y, K, H, alpha, beta, gamma)\u001b[0m\n\u001b[1;32m     32\u001b[0m                 \u001b[0mdK_dX\u001b[0m\u001b[0;34m[\u001b[0m\u001b[0mn\u001b[0m\u001b[0;34m,\u001b[0m \u001b[0mm\u001b[0m\u001b[0;34m,\u001b[0m \u001b[0ml\u001b[0m\u001b[0;34m]\u001b[0m \u001b[0;34m=\u001b[0m \u001b[0mK_rbf\u001b[0m\u001b[0;34m[\u001b[0m\u001b[0mn\u001b[0m\u001b[0;34m,\u001b[0m\u001b[0mm\u001b[0m\u001b[0;34m]\u001b[0m \u001b[0;34m*\u001b[0m \u001b[0;34m(\u001b[0m\u001b[0;34m(\u001b[0m\u001b[0mn\u001b[0m \u001b[0;34m==\u001b[0m \u001b[0ml\u001b[0m\u001b[0;34m)\u001b[0m \u001b[0;34m*\u001b[0m \u001b[0;34m(\u001b[0m\u001b[0mX\u001b[0m\u001b[0;34m[\u001b[0m\u001b[0mn\u001b[0m\u001b[0;34m]\u001b[0m \u001b[0;34m-\u001b[0m \u001b[0mX\u001b[0m\u001b[0;34m[\u001b[0m\u001b[0mm\u001b[0m\u001b[0;34m]\u001b[0m\u001b[0;34m)\u001b[0m \u001b[0;34m+\u001b[0m \u001b[0;34m(\u001b[0m\u001b[0mm\u001b[0m \u001b[0;34m==\u001b[0m \u001b[0ml\u001b[0m\u001b[0;34m)\u001b[0m \u001b[0;34m*\u001b[0m \u001b[0;34m(\u001b[0m\u001b[0mX\u001b[0m\u001b[0;34m[\u001b[0m\u001b[0mn\u001b[0m\u001b[0;34m]\u001b[0m \u001b[0;34m-\u001b[0m \u001b[0mX\u001b[0m\u001b[0;34m[\u001b[0m\u001b[0mm\u001b[0m\u001b[0;34m]\u001b[0m\u001b[0;34m)\u001b[0m\u001b[0;34m)\u001b[0m\u001b[0;34m\u001b[0m\u001b[0;34m\u001b[0m\u001b[0m\n\u001b[1;32m     33\u001b[0m \u001b[0;34m\u001b[0m\u001b[0m\n\u001b[0;32m---> 34\u001b[0;31m     \u001b[0mdK_dX\u001b[0m \u001b[0;34m*=\u001b[0m \u001b[0;34m-\u001b[0m\u001b[0mgamma\u001b[0m\u001b[0;34m\u001b[0m\u001b[0;34m\u001b[0m\u001b[0m\n\u001b[0m\u001b[1;32m     35\u001b[0m \u001b[0;34m\u001b[0m\u001b[0m\n\u001b[1;32m     36\u001b[0m     \u001b[0mdK_dalpha\u001b[0m \u001b[0;34m=\u001b[0m \u001b[0malpha\u001b[0m \u001b[0;34m*\u001b[0m \u001b[0mK_rbf\u001b[0m\u001b[0;34m\u001b[0m\u001b[0;34m\u001b[0m\u001b[0m\n",
      "\u001b[0;31mValueError\u001b[0m: operands could not be broadcast together with shapes (10,10,10,2) (10,10) (10,10,10,2) "
     ]
    }
   ],
   "source": [
    "losses = []\n",
    "\n",
    "lr = 1e-4\n",
    "\n",
    "for i in range(1000):\n",
    "    _, _, K = get_K_rbf(X, N, alpha, beta, gamma)\n",
    "    losses.append(gplvm_loglik(Y, K, D, N))\n",
    "    print(losses[-1])\n",
    "    dL_dX, dL_dalpha, dL_dbeta, dL_dgamma = gplvm_loglik_d(X, Y, K, 2, alpha, beta, gamma)\n",
    "    \n",
    "    alpha = alpha + lr * dL_dalpha\n",
    "    beta = beta + lr * dL_dbeta\n",
    "    gamma = gamma + lr * dL_dgamma\n",
    "    X = X + lr * dL_dX\n",
    "    \n",
    "    "
   ]
  },
  {
   "cell_type": "code",
   "execution_count": null,
   "metadata": {},
   "outputs": [],
   "source": []
  }
 ],
 "metadata": {
  "kernelspec": {
   "display_name": "Python 3",
   "language": "python",
   "name": "python3"
  },
  "language_info": {
   "codemirror_mode": {
    "name": "ipython",
    "version": 3
   },
   "file_extension": ".py",
   "mimetype": "text/x-python",
   "name": "python",
   "nbconvert_exporter": "python",
   "pygments_lexer": "ipython3",
   "version": "3.7.1"
  }
 },
 "nbformat": 4,
 "nbformat_minor": 2
}
